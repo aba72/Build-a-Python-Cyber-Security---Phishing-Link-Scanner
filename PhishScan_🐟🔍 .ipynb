{
 "cells": [
  {
   "cell_type": "code",
   "execution_count": 4,
   "id": "c13af961",
   "metadata": {},
   "outputs": [
    {
     "name": "stdout",
     "output_type": "stream",
     "text": [
      "🔗 Entrez une URL à analyser : http://192.168.1.1/login\n",
      "\n",
      "🔍 [INFO] Analyse de l'URL : http://192.168.1.1/login\n",
      "🌐 Domaine extrait : 192.168.1.1.\n",
      "⚠️ [ALERTE] L'URL utilise une adresse IP au lieu d'un domaine. Risque de phishing.\n",
      "⚠️ [ALERTE] L'URL contient des mots-clés suspects !\n",
      "[ERROR] VirusTotal check failed: 'attributes'\n",
      "\n",
      "✅ Analyse terminée.\n",
      "\n"
     ]
    }
   ],
   "source": [
    "import re\n",
    "import requests\n",
    "import tldextract\n",
    "\n",
    "# Liste de mots-clés suspects souvent utilisés dans le phishing\n",
    "SUSPICIOUS_KEYWORDS = [\"login\", \"verify\", \"update\", \"secure\", \"bank\", \"account\", \"free\", \"gift\", \"password\"]\n",
    "\n",
    "# Fonction pour vérifier si l'URL contient une adresse IP au lieu d'un nom de domaine\n",
    "def is_ip_url(url):\n",
    "    return bool(re.match(r'^(http|https):\\/\\/\\d{1,3}\\.\\d{1,3}\\.\\d{1,3}\\.\\d{1,3}', url))\n",
    "\n",
    "# Fonction pour vérifier si l'URL contient des mots-clés suspects\n",
    "def contains_suspicious_keywords(url):\n",
    "    return any(keyword in url.lower() for keyword in SUSPICIOUS_KEYWORDS)\n",
    "\n",
    "# Fonction pour vérifier si une URL est listée comme malveillante sur VirusTotal\n",
    "def check_blacklist(url):\n",
    "    API_KEY = \"1d036ad8dc94541e4c730c95b08b027344c47372059f5c3e7100cdd8b20beb6b\"  # Remplace par clé API\n",
    "    vt_url = \"https://www.virustotal.com/api/v3/urls\"\n",
    "    headers = {\"x-apikey\": API_KEY}\n",
    "    \n",
    "    try:\n",
    "        response = requests.post(vt_url, headers=headers, data={\"url\": url})\n",
    "        data = response.json()\n",
    "        \n",
    "        if \"data\" in data:\n",
    "            stats = data[\"data\"][\"attributes\"][\"last_analysis_stats\"]\n",
    "            return stats\n",
    "    except Exception as e:\n",
    "        print(f\"[ERROR] VirusTotal check failed: {e}\")\n",
    "    \n",
    "    return None\n",
    "\n",
    "# Fonction principale d'analyse d'URL\n",
    "def analyze_url(url):\n",
    "    domain_info = tldextract.extract(url)\n",
    "    domain = f\"{domain_info.domain}.{domain_info.suffix}\"\n",
    "\n",
    "    print(f\"\\n🔍 [INFO] Analyse de l'URL : {url}\")\n",
    "    print(f\"🌐 Domaine extrait : {domain}\")\n",
    "\n",
    "    if is_ip_url(url):\n",
    "        print(\"⚠️ [ALERTE] L'URL utilise une adresse IP au lieu d'un domaine. Risque de phishing.\")\n",
    "\n",
    "    if contains_suspicious_keywords(url):\n",
    "        print(\"⚠️ [ALERTE] L'URL contient des mots-clés suspects !\")\n",
    "\n",
    "    blacklist_result = check_blacklist(url)\n",
    "    if blacklist_result:\n",
    "        print(f\"🛑 [INFO] Résultats VirusTotal : {blacklist_result}\")\n",
    "\n",
    "    print(\"\\n✅ Analyse terminée.\\n\")\n",
    "\n",
    "# Exemple d'utilisation\n",
    "if __name__ == \"__main__\":\n",
    "    test_url = input(\"🔗 Entrez une URL à analyser : \")\n",
    "    analyze_url(test_url)\n"
   ]
  },
  {
   "cell_type": "code",
   "execution_count": null,
   "id": "e50d55de",
   "metadata": {},
   "outputs": [],
   "source": []
  },
  {
   "cell_type": "code",
   "execution_count": null,
   "id": "d44e5c8a",
   "metadata": {},
   "outputs": [],
   "source": [
    "✅ URL légitime :\n",
    "🔗 https://www.google.com\n",
    "🔗 https://www.paypal.com\n",
    "🔗 https://www.banque-france.fr\n",
    "\n",
    "⚠️ URL suspectes (exemples fictifs de phishing) :\n",
    "🔗 http://192.168.1.1/login (Utilise une adresse IP au lieu d'un domaine)\n",
    "🔗 https://secure-paypal.com-login.verification.xyz (Semble imiter PayPal mais n'est pas officiel)\n",
    "🔗 http://bank-verification-freegift.com (Contient \"bank\", \"verify\" et \"free gift\")\n",
    "🔗 https://update-my-password-login.com (Plusieurs mots-clés suspects)"
   ]
  }
 ],
 "metadata": {
  "kernelspec": {
   "display_name": "Python 3 (ipykernel)",
   "language": "python",
   "name": "python3"
  },
  "language_info": {
   "codemirror_mode": {
    "name": "ipython",
    "version": 3
   },
   "file_extension": ".py",
   "mimetype": "text/x-python",
   "name": "python",
   "nbconvert_exporter": "python",
   "pygments_lexer": "ipython3",
   "version": "3.11.5"
  }
 },
 "nbformat": 4,
 "nbformat_minor": 5
}
